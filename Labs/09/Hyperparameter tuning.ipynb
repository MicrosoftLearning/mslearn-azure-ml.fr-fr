{
  "cells": [
    {
      "cell_type": "markdown",
      "metadata": {},
      "source": [
        "# Régler les hyperparamètres avec un travail de balayage\n",
        "\n",
        "Beaucoup d’algorithmes de machine learning utilisent des hyperparamètres (valeurs de paramètres qui influencent l’entraînement, mais qui ne peuvent pas être déterminées à partir des données d’entraînement elles-mêmes). Par exemple, lors de l’entraînement d’un modèle de régression logistique, vous pouvez utiliser le taux de régularisation comme hyperparamètre pour compenser un biais du modèle. Ou bien, lors de l’entraînement d’un réseau neuronal convolutif, vous pouvez utiliser des hyperparamètres tels que le taux d’entraînement et la taille de lot pour contrôler le mode d’ajustement des pondérations et le nombre d’éléments de données traités dans un mini-lot, respectivement. Le choix des valeurs d’hyperparamètres peut affecter sensiblement les performances d’un modèle formé, ou le temps nécessaire pour effectuer l’apprentissage d’un modèle. Par ailleurs, souvent, vous devrez essayer plusieurs combinaisons pour trouver la solution optimale. \n",
        "\n",
        "## Avant de commencer\n",
        "\n",
        "Vous devez avoir la dernière version du package **azureml-ai-ml** pour exécuter le code dans ce notebook. Exécutez la cellule ci-dessous pour vérifier qu’il est installé.\n",
        "\n",
        "> **Remarque**\u00A0:\n",
        "> Si le package **azure-ai-ml** n’est pas installé, exécutez `pip install azure-ai-ml` pour l’installer."
      ]
    },
    {
      "cell_type": "code",
      "execution_count": null,
      "metadata": {
        "gather": {
          "logged": 1667591781367
        },
        "vscode": {
          "languageId": "python"
        }
      },
      "outputs": [],
      "source": [
        "## Se connecter à un espace de travail\n",
        "\n",
        "Une fois les packages requis du Kit de développement logiciel (SDK) installés, vous êtes prêt à vous connecter à votre espace de travail.\n",
        "\n",
        "Pour vous connecter à un espace de travail, vous avez besoin de paramètres d’identificateur\u00A0: un ID d’abonnement, un nom de groupe de ressources et un nom d’espace de travail. Le nom du groupe de ressources et le nom de l’espace de travail sont déjà renseignés pour vous. Vous avez seulement besoin de l’ID d’abonnement pour exécuter la commande.\n",
        "\n",
        "Pour trouver les paramètres nécessaires, cliquez sur l’abonnement et le nom de l’espace de travail en haut à droite du studio. Un volet s’ouvre à droite.\n",
        "\n",
        "<p style=\"color:red;font-size:120%;background-color:yellow;font-weight:bold\"> Copiez l’ID d’abonnement et remplacez **YOUR-SUBSCRIPTION-ID** par la valeur que vous avez copiée. </p>"
      ]
    },
    {
      "attachments": {},
      "cell_type": "markdown",
      "metadata": {},
      "source": [
        "## Créer le script d’apprentissage\n",
        "Le réglage des hyperparamètres est idéal lorsque vous souhaitez entraîner des modèles Machine Learning, mais en faisant varier les paramètres d’entrée. Vous devez créer un script d’entraînement qui attend un paramètre d’entrée représentant l’un des hyperparamètres de l’algorithme.\n",
        "\n",
        "Exécutez les cellules suivantes pour créer le dossier **src** et le script d’entraînement.\n",
        "\n",
        "Notez que le script d’entraînement attend deux paramètres d’entrée :\n",
        "\n",
        "- `--training_data`, qui attend une chaîne. Vous spécifiez le chemin vers une ressource de données inscrite en tant que données d’entraînement d’entrée.\n",
        "- `--reg_rate`, qui attend un nombre, mais a une valeur par défaut de `0.01`. Vous utilisez ce paramètre d’entrée pour le réglage des hyperparamètres."
      ]
    },
    {
      "cell_type": "code",
      "execution_count": null,
      "metadata": {
        "gather": {
          "logged": 1667591793668
        },
        "vscode": {
          "languageId": "python"
        }
      },
      "outputs": [],
      "source": [
        "## Configurer et exécuter un travail de commande\n",
        "\n",
        "Exécutez la cellule ci-dessous pour entraîner un modèle de classification afin de prédire le diabète. Le modèle est entraîné par l’exécution du script **train\\.py** qui se trouve dans le dossier **src**. Il utilise la ressource de données `diabetes-data` inscrite comme données d’entraînement. \n",
        "\n",
        "- `code`\u00A0: spécifie le dossier contenant le script à exécuter.\n",
        "- `command`\u00A0: spécifie ce qu’il faut exécuter exactement.\n",
        "- `environment`\u00A0: spécifie les packages nécessaires qui doivent être installés sur la capacité de calcul avant d’exécuter la commande.\n",
        "- `compute`\u00A0: spécifie la capacité de calcul à utiliser pour exécuter la commande.\n",
        "- `display_name`\u00A0: nom du travail individuel.\n",
        "- `experiment_name`\u00A0: nom de l’expérience à laquelle le travail appartient.\n",
        "\n",
        "Notez que le travail de commande n’exécute le script d’entraînement qu’une seule fois, avec un taux de régularisation de `0.1`. Avant d’exécuter un travail de balayage pour régler les hyperparamètres, il est recommandé de tester votre script pour vérifier qu’il fonctionne comme prévu avec un travail de commande."
      ]
    },
    {
      "cell_type": "code",
      "execution_count": null,
      "metadata": {
        "gather": {
          "logged": 1667591797746
        },
        "vscode": {
          "languageId": "python"
        }
      },
      "outputs": [],
      "source": [
        "## Définir l’espace de recherche\n",
        "\n",
        "Une fois votre travail de commande terminé, vous pouvez configurer et exécuter un travail de balayage. \n",
        "\n",
        "Tout d’abord, vous devez spécifier l’espace de recherche de votre hyperparamètre. Pour entraîner trois modèles, chacun avec un taux de régularisation différent (`0.01`, `0.1` ou `1`), définissez l’espace de recherche avec un hyperparamètre `Choice`. "
      ]
    },
    {
      "cell_type": "markdown",
      "metadata": {},
      "source": [
        "## Configurer et envoyer le travail de balayage\n",
        "\n",
        "Vous utilisez la fonction de balayage pour effectuer le réglage des hyperparamètres sur votre script d’entraînement. Pour configurer un travail de balayage, vous devez configurer les éléments suivants :\n",
        "\n",
        "- `compute` : nom de la capacité de calcul cible sur laquelle exécuter le travail.\n",
        "- `sampling_algorithm` : algorithme d’échantillonnage des hyperparamètres à utiliser sur l’espace de recherche. Les valeurs autorisées sont `random`, `grid` et `bayesian`.\n",
        "- `primary_metric` : nom de la métrique principale journalisée par chaque travail d’essai. La métrique doit être enregistrée dans le script de formation de l’utilisateur en utilisant `mlflow.log_metric()` avec le nom de métrique correspondant.\n",
        "- `goal`\u00A0: objectif d’optimisation de `primary_metric`. Les valeurs autorisées sont `maximize` et `minimize`.\n",
        "- `limits` : limites du travail de balayage. Par exemple, la quantité maximale d’essais ou de modèles que vous souhaitez entraîner.\n",
        "\n",
        "Notez que le travail de commande est utilisé comme base pour le travail de balayage. La configuration du travail de commande sera réutilisée par le travail de balayage."
      ]
    },
    {
      "cell_type": "code",
      "execution_count": null,
      "metadata": {
        "gather": {
          "logged": 1667591853637
        },
        "vscode": {
          "languageId": "python"
        }
      },
      "outputs": [],
      "source": [
        "Exécutez la cellule suivante pour soumettre le travail de balayage."
      ]
    },
    {
      "cell_type": "code",
      "execution_count": null,
      "metadata": {
        "vscode": {
          "languageId": "python"
        }
      },
      "outputs": [],
      "source": [
        "Une fois le travail terminé, accédez à la vue d’ensemble du travail. L’onglet **Essais** affiche tous les modèles qui ont été entraînés ainsi que les écarts de score `Accuracy` pour chaque valeur de taux de régularisation que vous avez essayée."
      ]
    },
    {
      "cell_type": "markdown",
      "metadata": {},
      "source": [
        "## Configure and run a command job\n",
        "\n",
        "Run the cell below to train a classification model to predict diabetes. The model is trained by running the **train\\.py** script that can be found in the **src** folder. It uses the registered `diabetes-data` data asset as the training data. \n",
        "\n",
        "- `code`: specifies the folder that includes the script to run.\n",
        "- `command`: specifies what to run exactly.\n",
        "- `environment`: specifies the necessary packages to be installed on the compute before running the command.\n",
        "- `compute`: specifies the compute to use to run the command.\n",
        "- `display_name`: the name of the individual job.\n",
        "- `experiment_name`: the name of the experiment the job belongs to.\n",
        "\n",
        "Note that the command job only runs the training script once, with a regularization rate of `0.1`. Before you run a sweep job to tune hyperparameters, it's a best practice to test whether your script works as expected with a command job."
      ]
    },
    {
      "cell_type": "code",
      "execution_count": null,
      "metadata": {
        "gather": {
          "logged": 1667592538771
        },
        "jupyter": {
          "outputs_hidden": false,
          "source_hidden": false
        },
        "nteract": {
          "transient": {
            "deleting": false
          }
        },
        "vscode": {
          "languageId": "python"
        }
      },
      "outputs": [],
      "source": [
        "from azure.ai.ml import command, Input\n",
        "from azure.ai.ml.constants import AssetTypes\n",
        "\n",
        "# configure job\n",
        "\n",
        "job = command(\n",
        "    code=\"./src\",\n",
        "    command=\"python train.py --training_data ${{inputs.diabetes_data}} --reg_rate ${{inputs.reg_rate}}\",\n",
        "    inputs={\n",
        "        \"diabetes_data\": Input(\n",
        "            type=AssetTypes.URI_FILE, \n",
        "            path=\"azureml:diabetes-data:1\"\n",
        "            ),\n",
        "        \"reg_rate\": 0.01,\n",
        "    },\n",
        "    environment=\"AzureML-sklearn-0.24-ubuntu18.04-py37-cpu@latest\",\n",
        "    compute=\"aml-cluster\",\n",
        "    display_name=\"diabetes-train-mlflow\",\n",
        "    experiment_name=\"diabetes-training\", \n",
        "    tags={\"model_type\": \"LogisticRegression\"}\n",
        "    )\n",
        "\n",
        "# submit job\n",
        "returned_job = ml_client.create_or_update(job)\n",
        "aml_url = returned_job.studio_url\n",
        "print(\"Monitor your job at\", aml_url)"
      ]
    },
    {
      "cell_type": "markdown",
      "metadata": {
        "nteract": {
          "transient": {
            "deleting": false
          }
        }
      },
      "source": [
        "## Define the search space\n",
        "\n",
        "When your command job has completed successfully, you can configure and run a sweep job. \n",
        "\n",
        "First, you'll need to specify the search space for your hyperparameter. To train three models, each with a different regularization rate (`0.01`, `0.1`, or `1`), you can define the search space with a `Choice` hyperparameter. "
      ]
    },
    {
      "cell_type": "code",
      "execution_count": null,
      "metadata": {
        "gather": {
          "logged": 1667592546442
        },
        "jupyter": {
          "outputs_hidden": false,
          "source_hidden": false
        },
        "nteract": {
          "transient": {
            "deleting": false
          }
        },
        "vscode": {
          "languageId": "python"
        }
      },
      "outputs": [],
      "source": [
        "from azure.ai.ml.sweep import Choice\n",
        "\n",
        "command_job_for_sweep = job(\n",
        "    reg_rate=Choice(values=[0.01, 0.1, 1]),\n",
        ")"
      ]
    },
    {
      "cell_type": "markdown",
      "metadata": {},
      "source": [
        "## Configure and submit the sweep job\n",
        "\n",
        "You'll use the sweep function to do hyperparameter tuning on your training script. To configure a sweep job, you'll need to configure the following:\n",
        "\n",
        "- `compute`: Name of the compute target to execute the job on.\n",
        "- `sampling_algorithm`: The hyperparameter sampling algorithm to use over the search space. Allowed values are `random`, `grid` and `bayesian`.\n",
        "- `primary_metric`: The name of the primary metric reported by each trial job. The metric must be logged in the user's training script using `mlflow.log_metric()` with the same corresponding metric name.\n",
        "- `goal`: The optimization goal of the `primary_metric`. The allowed values are `maximize` and `minimize`.\n",
        "- `limits`: Limits for the sweep job. For example, the maximum amount of trials or models you want to train.\n",
        "\n",
        "Note that the command job is used as the base for the sweep job. The configuration for the command job will be reused by the sweep job."
      ]
    },
    {
      "cell_type": "code",
      "execution_count": null,
      "metadata": {
        "gather": {
          "logged": 1667592681475
        },
        "jupyter": {
          "outputs_hidden": false,
          "source_hidden": false
        },
        "nteract": {
          "transient": {
            "deleting": false
          }
        },
        "vscode": {
          "languageId": "python"
        }
      },
      "outputs": [],
      "source": [
        "# apply the sweep parameter to obtain the sweep_job\n",
        "sweep_job = command_job_for_sweep.sweep(\n",
        "    compute=\"aml-cluster\",\n",
        "    sampling_algorithm=\"grid\",\n",
        "    primary_metric=\"training_accuracy_score\",\n",
        "    goal=\"Maximize\",\n",
        ")\n",
        "\n",
        "# set the name of the sweep job experiment\n",
        "sweep_job.experiment_name=\"sweep-diabetes\"\n",
        "\n",
        "# define the limits for this sweep\n",
        "sweep_job.set_limits(max_total_trials=4, max_concurrent_trials=2, timeout=7200)"
      ]
    },
    {
      "cell_type": "markdown",
      "metadata": {},
      "source": [
        "Run the following cell to submit the sweep job."
      ]
    },
    {
      "cell_type": "code",
      "execution_count": null,
      "metadata": {
        "gather": {
          "logged": 1667592716881
        },
        "jupyter": {
          "outputs_hidden": false,
          "source_hidden": false
        },
        "nteract": {
          "transient": {
            "deleting": false
          }
        },
        "vscode": {
          "languageId": "python"
        }
      },
      "outputs": [],
      "source": [
        "returned_sweep_job = ml_client.create_or_update(sweep_job)\n",
        "aml_url = returned_sweep_job.studio_url\n",
        "print(\"Monitor your job at\", aml_url)"
      ]
    },
    {
      "cell_type": "markdown",
      "metadata": {},
      "source": [
        "When the job is completed, navigate to the job overview. The **Trials** tab will show all models that have been trained and how the `Accuracy` score differs for each regularization rate value you tried."
      ]
    }
  ],
  "metadata": {
    "kernel_info": {
      "name": "python38-azureml"
    },
    "kernelspec": {
      "display_name": "Python 3.8 - AzureML",
      "language": "python",
      "name": "python38-azureml"
    },
    "microsoft": {
      "host": {
        "AzureML": {
          "notebookHasBeenCompleted": true
        }
      }
    },
    "nteract": {
      "version": "nteract-front-end@1.0.0"
    },
    "vscode": {
      "interpreter": {
        "hash": "f2b2cd046deda8eabef1e765a11d0ec9aa9bd1d31d56ce79c815a38c323e14ec"
      }
    }
  },
  "nbformat": 4,
  "nbformat_minor": 2
}