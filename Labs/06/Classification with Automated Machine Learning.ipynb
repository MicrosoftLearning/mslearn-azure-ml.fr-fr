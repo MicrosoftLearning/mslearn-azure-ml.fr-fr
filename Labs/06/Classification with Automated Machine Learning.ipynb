{
  "cells": [
    {
      "cell_type": "markdown",
      "metadata": {},
      "source": [
        "# Entraîner un modèle de classification avec le Machine Learning automatisé\n",
        "\n",
        "Il existe de nombreux types d’algorithmes d’apprentissage automatique que vous pouvez utiliser pour effectuer l’apprentissage d’un modèle, et il n’est pas toujours facile de déterminer l’algorithme le plus efficace pour vos données et vos exigences de prédiction spécifiques. En outre, vous pouvez affecter de manière significative les performances prédictives d’un modèle en prétraitant les données d’apprentissage à l’aide de techniques telles que la normalisation, l’imputation de fonctionnalités manquantes et autres. Dans votre quête du meilleur modèle pour vos besoins, vous devrez peut-être essayer de nombreuses combinaisons d’algorithmes et de transformations de prétraitement, ce qui monopolise beaucoup de temps et de ressources de calcul.\n",
        "\n",
        "Azure Machine Learning vous permet d’automatiser la comparaison de modèles entraînés à l’aide de différents algorithmes et options de prétraitement. Vous pouvez utiliser l’interface visuelle dans [Azure Machine Learning Studio](https://ml/azure.com) ou le SDK Python (v2) pour tirer parti de cette fonctionnalité. Le SDK Python vous offre un plus grand contrôle sur les paramètres du travail de Machine Learning automatisé, mais l’interface visuelle est plus facile à utiliser.\n",
        "\n",
        "## Avant de commencer\n",
        "\n",
        "Vous devez avoir la dernière version du package **azureml-ai-ml** pour exécuter le code dans ce notebook. Exécutez la cellule ci-dessous pour vérifier qu’il est installé.\n",
        "\n",
        "> **Remarque**\u00A0:\n",
        "> Si le package **azure-ai-ml** n’est pas installé, exécutez `pip install azure-ai-ml` pour l’installer."
      ]
    },
    {
      "cell_type": "code",
      "execution_count": null,
      "metadata": {
        "vscode": {
          "languageId": "python"
        }
      },
      "outputs": [],
      "source": [
        "## Se connecter à un espace de travail\n",
        "\n",
        "Une fois les packages requis du Kit de développement logiciel (SDK) installés, vous êtes prêt à vous connecter à votre espace de travail.\n",
        "\n",
        "Pour vous connecter à un espace de travail, vous avez besoin de paramètres d’identificateur\u00A0: un ID d’abonnement, un nom de groupe de ressources et un nom d’espace de travail. Le nom du groupe de ressources et le nom de l’espace de travail sont déjà renseignés pour vous. Vous avez seulement besoin de l’ID d’abonnement pour exécuter la commande.\n",
        "\n",
        "Pour trouver les paramètres nécessaires, cliquez sur l’abonnement et le nom de l’espace de travail en haut à droite du studio. Un volet s’ouvre à droite.\n",
        "\n",
        "<p style=\"color:red;font-size:120%;background-color:yellow;font-weight:bold\"> Copiez l’ID d’abonnement et remplacez **YOUR-SUBSCRIPTION-ID** par la valeur que vous avez copiée. </p>"
      ]
    },
    {
      "attachments": {},
      "cell_type": "markdown",
      "metadata": {},
      "source": [
        "## Préparer les données\n",
        "\n",
        "Vous n’avez pas besoin de créer un script d’entraînement pour le Machine Learning automatisé, mais vous devez charger les données d’entraînement. \n",
        "\n",
        "Dans le cas présent, vous allez utiliser un jeu de données contenant les détails de patients atteints de diabète. \n",
        "\n",
        "Pour passer un jeu de données en tant qu’entrée à un travail de Machine Learning automatisé, les données doivent être sous forme tabulaire et inclure une colonne cible. Pour que les données soient interprétées comme un jeu de données tabulaire, le jeu de données d’entrée doit être un **MLTable**.\n",
        "\n",
        "Une ressource de données MLTable a déjà été créée pour vous pendant la configuration. Vous pouvez explorer la ressource de données en accédant à la page **Données**. Vous allez récupérer la ressource de données ici en spécifiant son nom `diabetes-training-table` et sa version `1`. "
      ]
    },
    {
      "cell_type": "code",
      "execution_count": null,
      "metadata": {
        "gather": {
          "logged": 1664965651163
        },
        "jupyter": {
          "outputs_hidden": false,
          "source_hidden": false
        },
        "nteract": {
          "transient": {
            "deleting": false
          }
        },
        "vscode": {
          "languageId": "python"
        }
      },
      "outputs": [],
      "source": [
        "## Configurer le travail de Machine Learning automatisé\n",
        "\n",
        "Vous êtes maintenant prêt à configurer l’expérience du Machine Learning automatisé.\n",
        "\n",
        "Lorsque vous exécutez le code ci-dessous, celui-ci crée un travail de Machine Learning automatisé qui\u00A0:\n",
        "\n",
        "- Utilise le cluster de calcul nommé `aml-cluster`\n",
        "- Définit `Diabetic` comme colonne cible\n",
        "- Définit `accuracy` comme métrique principale\n",
        "- Expire après `60` minutes de temps total d’entraînement \n",
        "- Entraîne un maximum de `5` modèles\n",
        "- Aucun modèle ne sera entraîné avec l’algorithme `LogisticRegression`"
      ]
    },
    {
      "cell_type": "code",
      "execution_count": null,
      "metadata": {
        "vscode": {
          "languageId": "python"
        }
      },
      "outputs": [],
      "source": [
        "## Exécuter un travail de machine learning automatisé\n",
        "\n",
        "OK, vous êtes prêt. Nous allons exécuter l’expérience de Machine Learning automatisé.\n",
        "\n",
        "> **Remarque**\u00A0: Cela peut prendre un certain temps\u00A0!"
      ]
    },
    {
      "cell_type": "markdown",
      "metadata": {},
      "source": [
        "Vous pouvez surveiller le travail dans le studio pendant qu’il s’exécute."
      ]
    },
    {
      "cell_type": "code",
      "execution_count": null,
      "metadata": {
        "gather": {
          "logged": 1664965655212
        },
        "jupyter": {
          "outputs_hidden": false,
          "source_hidden": false
        },
        "nteract": {
          "transient": {
            "deleting": false
          }
        },
        "vscode": {
          "languageId": "python"
        }
      },
      "outputs": [],
      "source": [
        "from azure.ai.ml.constants import AssetTypes\n",
        "from azure.ai.ml import Input\n",
        "\n",
        "# creates a dataset based on the files in the local data folder\n",
        "my_training_data_input = Input(type=AssetTypes.MLTABLE, path=\"azureml:diabetes-training:1\")"
      ]
    },
    {
      "cell_type": "markdown",
      "metadata": {},
      "source": [
        "## Configure automated machine learning job\n",
        "\n",
        "Now, you're ready to configure the automated machine learning experiment.\n",
        "\n",
        "When you run the code below, it will create an automated machine learning job that:\n",
        "\n",
        "- Uses the compute cluster named `aml-cluster`\n",
        "- Sets `Diabetic` as the target column\n",
        "- Sets `accuracy` as the primary metric\n",
        "- Times out after `60` minutes of total training time \n",
        "- Trains a maximum of `5` models\n",
        "- No model will be trained with the `LogisticRegression` algorithm"
      ]
    },
    {
      "cell_type": "code",
      "execution_count": null,
      "metadata": {
        "gather": {
          "logged": 1664965734226
        },
        "jupyter": {
          "outputs_hidden": false,
          "source_hidden": false
        },
        "nteract": {
          "transient": {
            "deleting": false
          }
        },
        "vscode": {
          "languageId": "python"
        }
      },
      "outputs": [],
      "source": [
        "from azure.ai.ml import automl\n",
        "\n",
        "# configure the classification job\n",
        "classification_job = automl.classification(\n",
        "    compute=\"aml-cluster\",\n",
        "    experiment_name=\"auto-ml-class-dev\",\n",
        "    training_data=my_training_data_input,\n",
        "    target_column_name=\"Diabetic\",\n",
        "    primary_metric=\"accuracy\",\n",
        "    n_cross_validations=5,\n",
        "    enable_model_explainability=True\n",
        ")\n",
        "\n",
        "# set the limits (optional)\n",
        "classification_job.set_limits(\n",
        "    timeout_minutes=60, \n",
        "    trial_timeout_minutes=20, \n",
        "    max_trials=5,\n",
        "    enable_early_termination=True,\n",
        ")\n",
        "\n",
        "# set the training properties (optional)\n",
        "classification_job.set_training(\n",
        "    blocked_training_algorithms=[\"LogisticRegression\"], \n",
        "    enable_onnx_compatible_models=True\n",
        ")"
      ]
    },
    {
      "cell_type": "markdown",
      "metadata": {},
      "source": [
        "## Run an automated machine learning job\n",
        "\n",
        "OK, you're ready to go. Let's run the automated machine learning experiment.\n",
        "\n",
        "> **Note**: This may take some time!"
      ]
    },
    {
      "cell_type": "code",
      "execution_count": null,
      "metadata": {
        "gather": {
          "logged": 1664965739262
        },
        "jupyter": {
          "outputs_hidden": false,
          "source_hidden": false
        },
        "nteract": {
          "transient": {
            "deleting": false
          }
        },
        "vscode": {
          "languageId": "python"
        }
      },
      "outputs": [],
      "source": [
        "# Submit the AutoML job\n",
        "returned_job = ml_client.jobs.create_or_update(\n",
        "    classification_job\n",
        ")  \n",
        "\n",
        "# submit the job to the backend\n",
        "aml_url = returned_job.studio_url\n",
        "print(\"Monitor your job at\", aml_url)"
      ]
    },
    {
      "cell_type": "markdown",
      "metadata": {},
      "source": [
        "While the job is running, you can monitor it in the Studio."
      ]
    }
  ],
  "metadata": {
    "kernel_info": {
      "name": "python38-azureml"
    },
    "kernelspec": {
      "display_name": "Python 3.8 - AzureML",
      "language": "python",
      "name": "python38-azureml"
    },
    "microsoft": {
      "host": {
        "AzureML": {
          "notebookHasBeenCompleted": true
        }
      }
    },
    "nteract": {
      "version": "nteract-front-end@1.0.0"
    },
    "vscode": {
      "interpreter": {
        "hash": "f2b2cd046deda8eabef1e765a11d0ec9aa9bd1d31d56ce79c815a38c323e14ec"
      }
    }
  },
  "nbformat": 4,
  "nbformat_minor": 2
}