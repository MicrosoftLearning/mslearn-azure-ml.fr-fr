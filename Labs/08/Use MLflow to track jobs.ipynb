{
  "cells": [
    {
      "cell_type": "markdown",
      "metadata": {},
      "source": [
        "# Exécuter un script d’entraînement en tant que travail de commande\n",
        "\n",
        "Vous pouvez utiliser le SDK Python pour Azure Machine Learning afin de soumettre des scripts en tant que travaux de commande. En utilisant des travaux, vous pouvez facilement suivre les paramètres d’entrée et les sorties lors de l’entraînement d’un modèle Machine Learning.\n",
        "\n",
        "## Avant de commencer\n",
        "\n",
        "Vous devez avoir la dernière version du package **azureml-ai-ml** pour exécuter le code dans ce notebook. Exécutez la cellule ci-dessous pour vérifier qu’il est installé.\n",
        "\n",
        "> **Remarque**\u00A0:\n",
        "> Si le package **azure-ai-ml** n’est pas installé, exécutez `pip install azure-ai-ml` pour l’installer."
      ]
    },
    {
      "cell_type": "code",
      "execution_count": null,
      "metadata": {
        "vscode": {
          "languageId": "python"
        }
      },
      "outputs": [],
      "source": [
        "## Se connecter à un espace de travail\n",
        "\n",
        "Une fois les packages requis du Kit de développement logiciel (SDK) installés, vous êtes prêt à vous connecter à votre espace de travail.\n",
        "\n",
        "Pour vous connecter à un espace de travail, vous avez besoin de paramètres d’identificateur\u00A0: un ID d’abonnement, un nom de groupe de ressources et un nom d’espace de travail. Le nom du groupe de ressources et le nom de l’espace de travail sont déjà renseignés pour vous. Vous avez seulement besoin de l’ID d’abonnement pour exécuter la commande.\n",
        "\n",
        "Pour trouver les paramètres nécessaires, cliquez sur l’abonnement et le nom de l’espace de travail en haut à droite du studio. Un volet s’ouvre à droite.\n",
        "\n",
        "<p style=\"color:red;font-size:120%;background-color:yellow;font-weight:bold\"> Copiez l’ID d’abonnement et remplacez **YOUR-SUBSCRIPTION-ID** par la valeur que vous avez copiée. </p>"
      ]
    },
    {
      "attachments": {},
      "cell_type": "markdown",
      "metadata": {},
      "source": [
        "## Suivi personnalisé avec MLflow\n",
        "\n",
        "Lorsque vous exécutez un script en tant que travail, vous pouvez utiliser MLflow dans votre script d’entraînement pour suivre le modèle. MLflow vous permet de suivre tous les paramètres, métriques ou artefacts personnalisés que vous souhaitez stocker avec la sortie de votre travail.\n",
        "\n",
        "Exécutez les cellules suivantes pour créer le script **train-model-mlflow.py** dans le dossier **src**. Le script entraîne un modèle de classification avec le fichier **diabetes.csv** dans le même dossier, qui est passé comme argument. \n",
        "\n",
        "Passez en revue le code ci-dessous pour vérifier que le script importera `mlflow` et journalisera :\n",
        "\n",
        "- le taux de régularisation en tant que **paramètre**\u00A0; \n",
        "- la justesse et l’AUC en tant que **métriques**\u00A0;\n",
        "- la courbe ROC tracée en tant qu’**artefact**."
      ]
    },
    {
      "cell_type": "code",
      "execution_count": null,
      "metadata": {
        "gather": {
          "logged": 1663753569264
        },
        "vscode": {
          "languageId": "python"
        }
      },
      "outputs": [],
      "source": [
        "À présent, vous pouvez soumettre le script en tant que travail de commande.\n",
        "\n",
        "Exécutez la cellule ci-dessous pour entraîner le modèle. "
      ]
    },
    {
      "cell_type": "code",
      "execution_count": null,
      "metadata": {
        "vscode": {
          "languageId": "python"
        }
      },
      "outputs": [],
      "source": [
        "Dans le studio, accédez au travail **diabetes-train-mlflow** pour explorer la vue d’ensemble du travail de commande que vous avez exécuté\u00A0:\n",
        "\n",
        "- Les paramètres journalisés sont affichés sous l’onglet **Vue d’ensemble**, sous **Paramètres**.\n",
        "- Les métriques journalisées sont affichées sous l’onglet **Métriques**.\n",
        "- Les artefacts journalisés sont affichés sous l’onglet **Images** (spécifiquement pour les images) et sous l’onglet **Sorties + journaux** (pour tous les fichiers)."
      ]
    },
    {
      "cell_type": "markdown",
      "metadata": {},
      "source": [
        "## Journalisation automatique avec MLflow\n",
        "\n",
        "Au lieu d’utiliser la journalisation personnalisée, MLflow peut également enregistrer automatiquement tous les paramètres, métriques et artefacts. La journalisation automatique avec MLflow ne nécessite qu’une seule ligne de code.\n",
        "\n",
        "Exécutez la cellule suivante pour créer le script **train-model-autolog.py** dans le dossier **src**. Le script entraîne un modèle de classification avec le fichier **diabetes.csv** dans le même dossier, qui est passé comme argument. \n",
        "\n",
        "Si vous examinez le code ci-dessous, vous voyez que le script importe `mlflow` et qu’il active la journalisation automatique avec la ligne : \n",
        "\n",
        "`mlflow.autolog()`"
      ]
    },
    {
      "cell_type": "code",
      "execution_count": null,
      "metadata": {
        "vscode": {
          "languageId": "python"
        }
      },
      "outputs": [],
      "source": [
        "À présent, vous pouvez soumettre le script en tant que travail de commande.\n",
        "\n",
        "Exécutez la cellule ci-dessous pour entraîner le modèle. "
      ]
    },
    {
      "cell_type": "code",
      "execution_count": null,
      "metadata": {
        "vscode": {
          "languageId": "python"
        }
      },
      "outputs": [],
      "source": [
        "Dans le studio, accédez au travail **diabetes-train-autolog** pour explorer la vue d’ensemble du travail de commande que vous avez exécuté\u00A0:\n",
        "\n",
        "- Les paramètres journalisés sont affichés sous l’onglet **Vue d’ensemble**, sous **Paramètres**.\n",
        "- Les métriques journalisées sont affichées sous l’onglet **Métriques**.\n",
        "- Les artefacts journalisés sont affichés sous l’onglet **Images** (spécifiquement pour les images) et sous l’onglet **Sorties + journaux** (pour tous les fichiers, y compris les fichiers de modèle)."
      ]
    },
    {
      "cell_type": "markdown",
      "metadata": {},
      "source": [
        "## Utiliser MLflow pour afficher et rechercher des expériences\n",
        "\n",
        "Azure Machine Learning studio est une interface utilisateur avec laquelle vous pouvez facilement afficher et comparer des exécutions de travaux. Vous pouvez également utiliser MLflow pour afficher des travaux d’expérience. \n",
        "\n",
        "Pour voir les travaux dans l’espace de travail, utilisez la commande suivante qui liste les expériences dans l’espace de travail :\n"
      ]
    },
    {
      "cell_type": "code",
      "execution_count": null,
      "metadata": {
        "vscode": {
          "languageId": "python"
        }
      },
      "outputs": [],
      "source": [
        "Vous pouvez récupérer une expérience spécifique par son nom :"
      ]
    },
    {
      "cell_type": "markdown",
      "metadata": {},
      "source": [
        "Avec un nom d’expérience, vous pouvez récupérer tous les travaux de cette expérience :"
      ]
    },
    {
      "cell_type": "markdown",
      "metadata": {},
      "source": [
        "Pour comparer plus facilement les exécutions de travaux et les sorties, vous pouvez configurer la recherche afin que les résultats soient classés. Par exemple, la cellule suivante classe les résultats selon la valeur `start_time` et affiche un maximum de `2` résultats : "
      ]
    },
    {
      "cell_type": "code",
      "execution_count": null,
      "metadata": {
        "vscode": {
          "languageId": "python"
        }
      },
      "outputs": [],
      "source": [
        "Vous pouvez même créer une requête pour filtrer les exécutions. Les chaînes de requête de filtre sont écrites avec une version simplifiée de la clause SQL `WHERE`. \n",
        "\n",
        "Pour filtrer les exécutions, vous pouvez utiliser ces deux classes de comparateurs :\n",
        "\n",
        "- Comparateurs numériques (métriques) : =, !=, >, >=, < et <=.\n",
        "- Comparateurs de chaîne (params, étiquettes et attributs) : = et !=.\n",
        "\n",
        "Découvrez-en plus sur le [suivi des expériences avec MLflow](https://learn.microsoft.com/azure/machine-learning/how-to-track-experiments-mlflow)."
      ]
    },
    {
      "cell_type": "markdown",
      "metadata": {},
      "source": [
        "Now, you can submit the script as a command job.\n",
        "\n",
        "Run the cell below to train the model. "
      ]
    },
    {
      "cell_type": "code",
      "execution_count": null,
      "metadata": {
        "vscode": {
          "languageId": "python"
        }
      },
      "outputs": [],
      "source": [
        "from azure.ai.ml import command\n",
        "\n",
        "# configure job\n",
        "\n",
        "job = command(\n",
        "    code=\"./src\",\n",
        "    command=\"python train-model-autolog.py --training_data diabetes.csv\",\n",
        "    environment=\"AzureML-sklearn-0.24-ubuntu18.04-py37-cpu@latest\",\n",
        "    compute=\"aml-cluster\",\n",
        "    display_name=\"diabetes-train-autolog\",\n",
        "    experiment_name=\"diabetes-training\"\n",
        "    )\n",
        "\n",
        "# submit job\n",
        "returned_job = ml_client.create_or_update(job)\n",
        "aml_url = returned_job.studio_url\n",
        "print(\"Monitor your job at\", aml_url)"
      ]
    },
    {
      "cell_type": "markdown",
      "metadata": {},
      "source": [
        "In the Studio, navigate to the **diabetes-train-autolog** job to explore the overview of the command job you ran:\n",
        "\n",
        "- Find the logged parameters in the **Overview** tab, under **Params**.\n",
        "- Find the logged metrics in the **Metrics** tab.\n",
        "- Find the logged artifacts in the **Images** tab (specifically for images), and in the **Outputs + logs** tab (all files, including the model files)."
      ]
    },
    {
      "cell_type": "markdown",
      "metadata": {},
      "source": [
        "## Use MLflow to view and search for experiments\n",
        "\n",
        "The Azure Machine Learning Studio is an easy-to-use UI to view and compare job runs. Alternatively, you can use MLflow to view experiment jobs. \n",
        "\n",
        "To list the jobs in the workspace, use the following command to list the experiments in the workspace:\n"
      ]
    },
    {
      "cell_type": "code",
      "execution_count": null,
      "metadata": {
        "vscode": {
          "languageId": "python"
        }
      },
      "outputs": [],
      "source": [
        "import mlflow\n",
        "experiments = mlflow.list_experiments()\n",
        "for exp in experiments:\n",
        "    print(exp.name)"
      ]
    },
    {
      "cell_type": "markdown",
      "metadata": {},
      "source": [
        "To retrieve a specific experiment, you can get it by its name:"
      ]
    },
    {
      "cell_type": "code",
      "execution_count": null,
      "metadata": {
        "vscode": {
          "languageId": "python"
        }
      },
      "outputs": [],
      "source": [
        "experiment_name = \"diabetes-training\"\n",
        "exp = mlflow.get_experiment_by_name(experiment_name)\n",
        "print(exp)"
      ]
    },
    {
      "cell_type": "markdown",
      "metadata": {},
      "source": [
        "Using an experiment name, you can retrieve all jobs of that experiment:"
      ]
    },
    {
      "cell_type": "code",
      "execution_count": null,
      "metadata": {
        "vscode": {
          "languageId": "python"
        }
      },
      "outputs": [],
      "source": [
        "mlflow.search_runs(exp.experiment_id)"
      ]
    },
    {
      "cell_type": "markdown",
      "metadata": {},
      "source": [
        "To more easily compare job runs and outputs, you can configure the search to order the results. For example, the following cell orders the results by `start_time`, and only shows a maximum of `2` results: "
      ]
    },
    {
      "cell_type": "code",
      "execution_count": null,
      "metadata": {
        "vscode": {
          "languageId": "python"
        }
      },
      "outputs": [],
      "source": [
        "mlflow.search_runs(exp.experiment_id, order_by=[\"start_time DESC\"], max_results=2)"
      ]
    },
    {
      "cell_type": "markdown",
      "metadata": {},
      "source": [
        "You can even create a query to filter the runs. Filter query strings are written with a simplified version of the SQL `WHERE` clause. \n",
        "\n",
        "To filter, you can use two classes of comparators:\n",
        "\n",
        "- Numeric comparators (metrics): =, !=, >, >=, <, and <=.\n",
        "- String comparators (params, tags, and attributes): = and !=.\n",
        "\n",
        "Learn more about [how to track experiments with MLflow](https://learn.microsoft.com/azure/machine-learning/how-to-track-experiments-mlflow)."
      ]
    },
    {
      "cell_type": "code",
      "execution_count": null,
      "metadata": {
        "vscode": {
          "languageId": "python"
        }
      },
      "outputs": [],
      "source": [
        "query = \"metrics.AUC > 0.8 and tags.model_type = 'LogisticRegression'\"\n",
        "mlflow.search_runs(exp.experiment_id, filter_string=query)"
      ]
    }
  ],
  "metadata": {
    "kernel_info": {
      "name": "python38-azureml"
    },
    "kernelspec": {
      "display_name": "Python 3.8 - AzureML",
      "language": "python",
      "name": "python38-azureml"
    },
    "microsoft": {
      "host": {
        "AzureML": {
          "notebookHasBeenCompleted": true
        }
      }
    },
    "nteract": {
      "version": "nteract-front-end@1.0.0"
    },
    "vscode": {
      "interpreter": {
        "hash": "f2b2cd046deda8eabef1e765a11d0ec9aa9bd1d31d56ce79c815a38c323e14ec"
      }
    }
  },
  "nbformat": 4,
  "nbformat_minor": 2
}