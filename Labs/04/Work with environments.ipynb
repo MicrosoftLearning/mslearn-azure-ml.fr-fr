{
  "cells": [
    {
      "cell_type": "markdown",
      "metadata": {
        "nteract": {
          "transient": {
            "deleting": false
          }
        }
      },
      "source": [
        "# Utiliser des environnements\n",
        "\n",
        "\n",
        "Quand vous exécutez un script en tant que travail Azure Machine Learning, vous devez définir son contexte d’exécution. Une configuration clé est la cible de calcul sur laquelle le script sera exécuté. Il peut s’agir de la station de travail locale (dans ce cas, l’instance de calcul) ou d’une cible de calcul distante telle que le cluster de calcul managé Azure Machine Learning qui est provisionné à la demande.\n",
        "\n",
        "Dans ce notebook, vous créez un cluster de calcul et vous explorez les cibles de calcul pour les travaux.\n",
        "\n",
        "## Avant de commencer\n",
        "\n",
        "Vous devez avoir la dernière version du package **azureml-ai-ml** pour exécuter le code dans ce notebook. Exécutez la cellule ci-dessous pour vérifier qu’il est installé.\n",
        "\n",
        "> **Remarque**\u00A0:\n",
        "> Si le package **azure-ai-ml** n’est pas installé, exécutez `pip install azure-ai-ml` pour l’installer."
      ]
    },
    {
      "cell_type": "code",
      "execution_count": null,
      "metadata": {
        "gather": {
          "logged": 1665745893251
        },
        "vscode": {
          "languageId": "python"
        }
      },
      "outputs": [],
      "source": [
        "## Se connecter à un espace de travail\n",
        "\n",
        "Une fois les packages requis du Kit de développement logiciel (SDK) installés, vous êtes prêt à vous connecter à votre espace de travail.\n",
        "\n",
        "Pour vous connecter à un espace de travail, vous avez besoin de paramètres d’identificateur\u00A0: un ID d’abonnement, un nom de groupe de ressources et un nom d’espace de travail. Le nom du groupe de ressources et le nom de l’espace de travail sont déjà renseignés pour vous. Vous avez seulement besoin de l’ID d’abonnement pour exécuter la commande.\n",
        "\n",
        "Pour trouver les paramètres nécessaires, cliquez sur l’abonnement et le nom de l’espace de travail en haut à droite du studio. Un volet s’ouvre à droite.\n",
        "\n",
        "<p style=\"color:red;font-size:120%;background-color:yellow;font-weight:bold\"> Copiez l’ID d’abonnement et remplacez **YOUR-SUBSCRIPTION-ID** par la valeur que vous avez copiée. </p>"
      ]
    },
    {
      "attachments": {},
      "cell_type": "markdown",
      "metadata": {
        "nteract": {
          "transient": {
            "deleting": false
          }
        }
      },
      "source": [
        "## Exécuter un script en tant que travail\n",
        "\n",
        "Pour entraîner un modèle, vous allez d’abord créer le script **diabetes_training.py** dans le dossier **src**. Le script utilise le fichier **diabetes.csv** dans le même dossier que les données d’entraînement.\n",
        "\n",
        "Notez que vous importez des bibliothèques au début du script. Les fonctions fournies dans ces bibliothèques sont utilisées pour le traitement des données et l’entraînement du modèle. Ces bibliothèques doivent toujours être installées, quelle que soit la capacité de calcul que vous utilisez pour exécuter le script."
      ]
    },
    {
      "cell_type": "code",
      "execution_count": null,
      "metadata": {
        "gather": {
          "logged": 1665745927409
        },
        "jupyter": {
          "outputs_hidden": false,
          "source_hidden": false
        },
        "nteract": {
          "transient": {
            "deleting": false
          }
        },
        "vscode": {
          "languageId": "python"
        }
      },
      "outputs": [],
      "source": [
        "Après avoir créé le script, vous pouvez l’exécuter en tant que travail. Le script utilise des bibliothèques courantes. Vous pouvez donc utiliser un environnement organisé comme pandas, numpy et scikit-learn, entre autres.\n",
        "\n",
        "Le travail utilise la dernière version de l’environnement organisé : `AzureML-sklearn-0.24-ubuntu18.04-py37-cpu`."
      ]
    },
    {
      "cell_type": "code",
      "execution_count": null,
      "metadata": {
        "vscode": {
          "languageId": "python"
        }
      },
      "outputs": [],
      "source": [
        "Pendant l’exécution du travail, vous pouvez déjà exécuter les cellules suivantes."
      ]
    },
    {
      "cell_type": "markdown",
      "metadata": {},
      "source": [
        "## Liste des environnements\n",
        "\n",
        "Explorons les environnements au sein de l’espace de travail. \n",
        "\n",
        "Dans le travail précédent, vous avez utilisé l’un des environnements organisés. Pour explorer tous les environnements qui existent déjà dans l’espace de travail, vous pouvez les lister : "
      ]
    },
    {
      "cell_type": "code",
      "execution_count": null,
      "metadata": {
        "vscode": {
          "languageId": "python"
        }
      },
      "outputs": [],
      "source": [
        "Notez que tous les environnements organisés ont des noms qui commencent par **AzureML-** (vous ne pouvez pas utiliser ce préfixe pour vos propres environnements).\n",
        "\n",
        "Pour examiner un environnement spécifique, vous pouvez récupérer l’environnement par son nom et sa version. Par exemple, vous pouvez récupérer la *description* et les *étiquettes* de l’environnement organisé que vous avez utilisé pour le travail précédent :"
      ]
    },
    {
      "cell_type": "markdown",
      "metadata": {},
      "source": [
        "## Créer et utiliser un environnement personnalisé\n",
        "\n",
        "Si un environnement organisé n’inclut pas tous les packages Python dont vous avez besoin pour exécuter votre script, vous pouvez créer votre propre environnement personnalisé. En listant tous les packages nécessaires dans un environnement, vous pouvez facilement réexécuter vos scripts. Toutes les dépendances sont stockées dans l’environnement que vous pouvez ensuite spécifier dans la configuration du travail, indépendamment de la capacité de calcul que vous utilisez.\n",
        "\n",
        "Par exemple, vous pouvez créer un environnement simplement à partir d’une image Docker. Certains frameworks tels que PyTorch auront une image Docker publique incluant déjà tout ce dont vous avez besoin. \n",
        "\n",
        "Nous allons créer un environnement à partir d’une image Docker\u00A0:"
      ]
    },
    {
      "cell_type": "code",
      "execution_count": null,
      "metadata": {
        "vscode": {
          "languageId": "python"
        }
      },
      "outputs": [],
      "source": [
        "L’environnement est désormais inscrit dans votre espace de travail. Vous pouvez donc le référencer lorsque vous exécutez un script en tant que travail :"
      ]
    },
    {
      "cell_type": "markdown",
      "metadata": {},
      "source": [
        "<p style=\"color:red;font-size:120%;background-color:yellow;font-weight:bold\"> Le travail échouera vite\u00A0! Lisez le message d’erreur. </p>\n",
        "\n",
        "Le message d’erreur vous indique qu’il n’y a aucun module nommé pandas. Cette erreur a deux causes possibles\u00A0:\n",
        "\n",
        "- Le script utilise pandas, mais n’a pas importé la bibliothèque (`import pandas as pd`). \n",
        "- Le script importe la bibliothèque au début du script, mais la bibliothèque n’est pas installée sur la capacité de calcul (`pip install pandas`).\n",
        "\n",
        "Vous vérifiez le script `diabetes-training.py` et constatez qu’il est correct, ce qui signifie que la bibliothèque n’a pas été installée. En d’autres termes, l’environnement n’a pas inclus les packages nécessaires.\n",
        "\n",
        "Créons un environnement à l’aide de l’image Docker de base qui a été utilisée dans le travail précédent. Maintenant, vous allez ajouter une spécification conda pour vous assurer que les packages nécessaires seront installés. Tout d’abord, exécutez la cellule suivante pour créer le fichier de spécification conda :"
      ]
    },
    {
      "cell_type": "markdown",
      "metadata": {},
      "source": [
        "Notez que toutes les dépendances nécessaires sont incluses dans le fichier de spécification conda afin de permettre la bonne exécution du script.\n",
        "\n",
        "Créez un environnement à l’aide de l’image Docker de base **et** du fichier de spécification conda pour ajouter les dépendances nécessaires. Azure Machine Learning crée l’environnement conda sur l’image Docker que vous avez fournie. "
      ]
    },
    {
      "cell_type": "code",
      "execution_count": null,
      "metadata": {
        "vscode": {
          "languageId": "python"
        }
      },
      "outputs": [],
      "source": [
        "Vous pouvez maintenant soumettre un travail avec le nouvel environnement pour exécuter le script :"
      ]
    },
    {
      "cell_type": "markdown",
      "metadata": {},
      "source": [
        "La soumission du travail avec le nouvel environnement personnalisé déclenche la création de l’environnement. La première fois que vous utilisez un nouvel environnement, la création de l’environnement peut prendre entre 10 et 15 minutes, ce qui augmente aussi la durée du travail. \n",
        "\n",
        "Vous pouvez également choisir de déclencher manuellement la création de l’environnement avant de soumettre un travail. L’environnement doit être créé uniquement la première fois que vous l’utilisez. \n",
        "\n",
        "Lorsque le travail déclenche la création d’un environnement, vous pouvez consulter les journaux de la build sous l’onglet **Sorties + journaux** du travail. Ouvrez **azureml-logs/20_image_build_log.txt** pour inspecter les journaux de la build d’environnement. \n",
        "\n",
        "![Capture d’écran des journaux de la build](./images/screenshot-logs.png)"
      ]
    },
    {
      "cell_type": "code",
      "execution_count": null,
      "metadata": {
        "vscode": {
          "languageId": "python"
        }
      },
      "outputs": [],
      "source": [
        "env = ml_client.environments.get(\"AzureML-sklearn-0.24-ubuntu18.04-py37-cpu\", version=44)\n",
        "print(env. description, env.tags)"
      ]
    },
    {
      "cell_type": "markdown",
      "metadata": {},
      "source": [
        "## Create and use a custom environment\n",
        "\n",
        "If a curated environment doesn't include all the Python packages you need to run your script, you can create your own custom environment. By listing all necessary packages in an environment, you can easily re-run your scripts. All the dependencies are stored in the environment which you can then specify in the job configuration, independent of the compute you use.\n",
        "\n",
        "For example, you can create an environment simply from a Docker image. Certain frameworks like PyTorch will have a public Docker image that already includes everything you need. \n",
        "\n",
        "Let's create an environment from a Docker image:"
      ]
    },
    {
      "cell_type": "code",
      "execution_count": null,
      "metadata": {
        "vscode": {
          "languageId": "python"
        }
      },
      "outputs": [],
      "source": [
        "from azure.ai.ml.entities import Environment\n",
        "\n",
        "env_docker_image = Environment(\n",
        "    image=\"mcr.microsoft.com/azureml/openmpi3.1.2-ubuntu18.04\",\n",
        "    name=\"docker-image-example\",\n",
        "    description=\"Environment created from a Docker image.\",\n",
        ")\n",
        "ml_client.environments.create_or_update(env_docker_image)"
      ]
    },
    {
      "cell_type": "markdown",
      "metadata": {},
      "source": [
        "The environment is now registered in your workspace and you can reference it when you run a script as a job:"
      ]
    },
    {
      "cell_type": "code",
      "execution_count": null,
      "metadata": {
        "vscode": {
          "languageId": "python"
        }
      },
      "outputs": [],
      "source": [
        "from azure.ai.ml import command\n",
        "\n",
        "# configure job\n",
        "job = command(\n",
        "    code=\"./src\",\n",
        "    command=\"python diabetes-training.py\",\n",
        "    environment=\"docker-image-example:1\",\n",
        "    compute=\"aml-cluster\",\n",
        "    display_name=\"diabetes-train-custom-env\",\n",
        "    experiment_name=\"diabetes-training\"\n",
        ")\n",
        "\n",
        "# submit job\n",
        "returned_job = ml_client.create_or_update(job)\n",
        "aml_url = returned_job.studio_url\n",
        "print(\"Monitor your job at\", aml_url)"
      ]
    },
    {
      "attachments": {},
      "cell_type": "markdown",
      "metadata": {},
      "source": [
        "<p style=\"color:red;font-size:120%;background-color:yellow;font-weight:bold\"> The job will quickly fail! Review the error message. </p>\n",
        "\n",
        "The error message will tell you that there is no module named pandas. There are two possible causes for such an error:\n",
        "\n",
        "- The script uses pandas but didn't import the library (`import pandas as pd`). \n",
        "- The script does import the library at the top of the script but the compute didn't have the library installed (`pip install pandas`).\n",
        "\n",
        "After reviewing the `diabetes-training.py` script you can observe the script is correct, which means the library wasn't installed. In other words, the environment didn't include the necessary packages.\n",
        "\n",
        "Let's create a new environment, using the base Docker image used in the previous job. Now, you'll add a conda specification to ensure the necessary packages will be installed. First, run the following cell to create the conda specification file:"
      ]
    },
    {
      "cell_type": "code",
      "execution_count": null,
      "metadata": {
        "vscode": {
          "languageId": "python"
        }
      },
      "outputs": [],
      "source": [
        "%%writefile src/conda-env.yml\n",
        "name: basic-env-cpu\n",
        "channels:\n",
        "  - conda-forge\n",
        "dependencies:\n",
        "  - python=3.7\n",
        "  - scikit-learn\n",
        "  - pandas\n",
        "  - numpy\n",
        "  - matplotlib"
      ]
    },
    {
      "cell_type": "markdown",
      "metadata": {},
      "source": [
        "Note that all necessary dependencies are included in the conda specification file for the script to run successfully.\n",
        "\n",
        "Create a new environment using the base Docker image **and** the conda specification file to add the necessary dependencies. Azure Machine Learning will build the conda environment on top of the Docker image you provided. "
      ]
    },
    {
      "cell_type": "code",
      "execution_count": null,
      "metadata": {
        "vscode": {
          "languageId": "python"
        }
      },
      "outputs": [],
      "source": [
        "from azure.ai.ml.entities import Environment\n",
        "\n",
        "env_docker_conda = Environment(\n",
        "    image=\"mcr.microsoft.com/azureml/openmpi3.1.2-ubuntu18.04\",\n",
        "    conda_file=\"./src/conda-env.yml\",\n",
        "    name=\"docker-image-plus-conda-example\",\n",
        "    description=\"Environment created from a Docker image plus Conda environment.\",\n",
        ")\n",
        "ml_client.environments.create_or_update(env_docker_conda)"
      ]
    },
    {
      "cell_type": "markdown",
      "metadata": {},
      "source": [
        "Now, you can submit a job with the new environment to run the script:"
      ]
    },
    {
      "cell_type": "code",
      "execution_count": null,
      "metadata": {
        "vscode": {
          "languageId": "python"
        }
      },
      "outputs": [],
      "source": [
        "from azure.ai.ml import command\n",
        "\n",
        "# configure job\n",
        "job = command(\n",
        "    code=\"./src\",\n",
        "    command=\"python diabetes-training.py\",\n",
        "    environment=\"docker-image-plus-conda-example:1\",\n",
        "    compute=\"aml-cluster\",\n",
        "    display_name=\"diabetes-train-custom-env\",\n",
        "    experiment_name=\"diabetes-training\"\n",
        ")\n",
        "\n",
        "# submit job\n",
        "returned_job = ml_client.create_or_update(job)\n",
        "aml_url = returned_job.studio_url\n",
        "print(\"Monitor your job at\", aml_url)"
      ]
    },
    {
      "cell_type": "markdown",
      "metadata": {},
      "source": [
        "Submitting the job with the new custom environment triggers the build of the environment. The first time you use a newly created environment, it can take 10-15 minutes to build the environment, which also means your job will take longer to complete. \n",
        "\n",
        "You can also choose to manually trigger the build of the environment before you submit a job. The environment only needs to be built the first time you use it. \n",
        "\n",
        "When the job triggers the build of a new environment, you can review the logs of the build in the **Outputs + logs** tab of the job. Open **azureml-logs/20_image_build_log.txt** to inspect the logs of the environment build. \n",
        "\n",
        "![Screenshot build logs](./images/screenshot-logs.png)"
      ]
    }
  ],
  "metadata": {
    "kernel_info": {
      "name": "python38-azureml"
    },
    "kernelspec": {
      "display_name": "Python 3.8 - AzureML",
      "language": "python",
      "name": "python38-azureml"
    },
    "microsoft": {
      "host": {
        "AzureML": {
          "notebookHasBeenCompleted": true
        }
      }
    },
    "nteract": {
      "version": "nteract-front-end@1.0.0"
    },
    "vscode": {
      "interpreter": {
        "hash": "f2b2cd046deda8eabef1e765a11d0ec9aa9bd1d31d56ce79c815a38c323e14ec"
      }
    }
  },
  "nbformat": 4,
  "nbformat_minor": 2
}